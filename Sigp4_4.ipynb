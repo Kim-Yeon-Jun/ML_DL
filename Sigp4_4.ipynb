{
  "nbformat": 4,
  "nbformat_minor": 0,
  "metadata": {
    "colab": {
      "provenance": [],
      "gpuType": "T4",
      "authorship_tag": "ABX9TyNHGN2VQOG/IKZllkn3Sqvy",
      "include_colab_link": true
    },
    "kernelspec": {
      "name": "python3",
      "display_name": "Python 3"
    },
    "language_info": {
      "name": "python"
    },
    "accelerator": "GPU"
  },
  "cells": [
    {
      "cell_type": "markdown",
      "metadata": {
        "id": "view-in-github",
        "colab_type": "text"
      },
      "source": [
        "<a href=\"https://colab.research.google.com/github/Kim-Yeon-Jun/Machine_Learning/blob/main/Sigp4_4.ipynb\" target=\"_parent\"><img src=\"https://colab.research.google.com/assets/colab-badge.svg\" alt=\"Open In Colab\"/></a>"
      ]
    },
    {
      "cell_type": "code",
      "execution_count": null,
      "metadata": {
        "id": "V7VkvNPhQ_Xr"
      },
      "outputs": [],
      "source": [
        "#인공신경망 구현하기 with Pytorch"
      ]
    },
    {
      "cell_type": "code",
      "source": [
        "import numpy as np\n",
        "import pandas as pd\n",
        "import matplotlib.pyplot as plt\n",
        "import seaborn as sns\n",
        "from sklearn.datasets import load_iris\n",
        "\n",
        "from sklearn.model_selection import train_test_split\n",
        "import torch\n",
        "from torch import nn\n",
        "from torch.utils.data import TensorDataset, DataLoader\n"
      ],
      "metadata": {
        "id": "cn_bFgzsRSKn"
      },
      "execution_count": null,
      "outputs": []
    },
    {
      "cell_type": "code",
      "source": [
        "iris = load_iris()\n",
        "df = pd.DataFrame(data = iris.data, columns = iris.feature_names)\n",
        "df['label'] =  iris.target"
      ],
      "metadata": {
        "id": "V0rMxp5KXxD4"
      },
      "execution_count": null,
      "outputs": []
    },
    {
      "cell_type": "code",
      "source": [
        "y = df['label']\n",
        "X = df.drop(['label'], axis = 1)\n",
        "\n",
        "X_train, X_test, y_train, y_test = train_test_split(X.values, y.values, random_state=42, stratify = y)"
      ],
      "metadata": {
        "id": "ogzsp_fdX5bN"
      },
      "execution_count": null,
      "outputs": []
    },
    {
      "cell_type": "code",
      "source": [
        "X_train = torch.tensor(X_train, dtype=torch.float32)\n",
        "X_test = torch.tensor(X_test, dtype=torch.float32)\n",
        "y_train = torch.tensor(y_train, dtype=torch.int64)\n",
        "y_test = torch.tensor(y_test, dtype=torch.int64)\n",
        "\n",
        "train_dataset = TensorDataset(X_train, y_train)\n",
        "test_dataset = TensorDataset(X_test, y_test)\n",
        "\n",
        "train_dataloader = DataLoader(train_dataset, batch_size = 10, shuffle = True)\n",
        "test_dataloader = DataLoader(test_dataset, batch_size=10, shuffle = True)"
      ],
      "metadata": {
        "id": "wNL52mRXYKw5"
      },
      "execution_count": null,
      "outputs": []
    },
    {
      "cell_type": "code",
      "source": [
        "class NeuralNetwork(nn.Module):\n",
        "  def __init__(self):\n",
        "    super(NeuralNetwork, self).__init__()\n",
        "    self.input_layer = nn.Linear(4, 16)\n",
        "    self.hidden_layer1 = nn.Linear(16,32)\n",
        "    self.output_layer = nn.Linear(32, 3)\n",
        "    self.relu = nn.ReLU()\n",
        "\n",
        "  def forward(self,x):\n",
        "    out = self.relu(self.input_layer(x))\n",
        "    out = self.relu(self.hidden_layer1(out))\n",
        "    out = self.output_layer(out)\n",
        "    return out"
      ],
      "metadata": {
        "id": "RztvHk32Yoy8"
      },
      "execution_count": null,
      "outputs": []
    },
    {
      "cell_type": "code",
      "source": [
        "device = 'cuda' if  torch.cuda.is_available() else 'cpu'\n",
        "print(f'device = {device}')\n",
        "\n",
        "model = NeuralNetwork().to(device)"
      ],
      "metadata": {
        "colab": {
          "base_uri": "https://localhost:8080/"
        },
        "id": "_j8dciIhZRXG",
        "outputId": "d58875ac-2d43-4288-e5ba-5f1fee6f37a3"
      },
      "execution_count": null,
      "outputs": [
        {
          "output_type": "stream",
          "name": "stdout",
          "text": [
            "device = cuda\n"
          ]
        }
      ]
    },
    {
      "cell_type": "code",
      "source": [
        "#모델 컴파일\n",
        "learning_rate = 0.001\n",
        "loss =nn.CrossEntropyLoss()\n",
        "optimizer = torch.optim.Adam(model.parameters(), lr= learning_rate)"
      ],
      "metadata": {
        "id": "gRjOan6rZns9"
      },
      "execution_count": null,
      "outputs": []
    },
    {
      "cell_type": "code",
      "source": [
        "def train_loop(train_loader, model, loss_fn, optimizer):\n",
        "  size = len(train_loader.dataset)\n",
        "  for batch, (X,y) in enumerate(train_loader):\n",
        "    X, y = X.to(device), y.to(device)\n",
        "    pred = model(X)\n",
        "\n",
        "    #손실 계산\n",
        "    loss = loss_fn(pred, y)\n",
        "\n",
        "    #역전파\n",
        "    optimizer.zero_grad()\n",
        "    loss.backward()\n",
        "    optimizer.step()\n",
        "\n",
        "    loss, current = loss.item(), batch * len(X)\n",
        "    print(f'loss : {loss:>7f} [{current:>5d}]/{size:5d}')"
      ],
      "metadata": {
        "id": "Q5enpIqiZ9ey"
      },
      "execution_count": null,
      "outputs": []
    },
    {
      "cell_type": "code",
      "source": [
        "def test_loop(test_loader, model, loss_fn):\n",
        "  size = len(test_loader.dataset)\n",
        "  num_batches = len(test_loader)\n",
        "  test_loss, correct = 0, 0\n",
        "\n",
        "  with torch.no_grad():\n",
        "    for X, y in test_loader:\n",
        "      X, y = X.to(device), y.to(device)\n",
        "      pred = model(X)\n",
        "      test_loss += loss_fn(pred, y).item()\n",
        "      correct += (pred.argmax(1) == y).type(torch.float).sum().item()\n",
        "\n",
        "  test_loss /= num_batches\n",
        "  correct /= size\n",
        "  print(f\"Test Error : \\n Accuracy : {(100*correct):0.1f}%, Avg loss : {test_loss:8f}\\n\")"
      ],
      "metadata": {
        "id": "SLF95kMtad1C"
      },
      "execution_count": null,
      "outputs": []
    },
    {
      "cell_type": "code",
      "source": [
        "epochs = 10\n",
        "\n",
        "for i in range(epochs):\n",
        "  print(f\"Epoch {i+1} \\n---------------\")\n",
        "  train_loop(train_dataloader, model, loss, optimizer)\n",
        "  test_loop(test_dataloader, model, loss)\n",
        "print(\"Done!\")"
      ],
      "metadata": {
        "colab": {
          "base_uri": "https://localhost:8080/"
        },
        "id": "JzK6MNYLbN8z",
        "outputId": "eff73865-5899-421d-eb3e-9ef5bdb70f5d"
      },
      "execution_count": null,
      "outputs": [
        {
          "output_type": "stream",
          "name": "stdout",
          "text": [
            "Epoch 1 \n",
            "---------------\n",
            "loss : 1.061184 [    0]/  112\n",
            "loss : 1.065614 [   10]/  112\n",
            "loss : 0.986468 [   20]/  112\n",
            "loss : 1.010825 [   30]/  112\n",
            "loss : 1.055754 [   40]/  112\n",
            "loss : 1.004410 [   50]/  112\n",
            "loss : 0.977798 [   60]/  112\n",
            "loss : 0.965269 [   70]/  112\n",
            "loss : 1.066278 [   80]/  112\n",
            "loss : 0.961919 [   90]/  112\n",
            "loss : 0.963350 [  100]/  112\n",
            "loss : 0.926853 [   22]/  112\n",
            "Test Error : \n",
            " Accuracy : 60.5%, Avg loss : 0.972791\n",
            "\n",
            "Epoch 2 \n",
            "---------------\n",
            "loss : 0.974821 [    0]/  112\n",
            "loss : 0.957860 [   10]/  112\n",
            "loss : 0.968445 [   20]/  112\n",
            "loss : 0.991759 [   30]/  112\n",
            "loss : 0.964476 [   40]/  112\n",
            "loss : 0.908039 [   50]/  112\n",
            "loss : 0.980181 [   60]/  112\n",
            "loss : 0.870738 [   70]/  112\n",
            "loss : 0.936861 [   80]/  112\n",
            "loss : 0.869548 [   90]/  112\n",
            "loss : 0.871144 [  100]/  112\n",
            "loss : 1.028698 [   22]/  112\n",
            "Test Error : \n",
            " Accuracy : 76.3%, Avg loss : 0.905203\n",
            "\n",
            "Epoch 3 \n",
            "---------------\n",
            "loss : 0.887674 [    0]/  112\n",
            "loss : 0.822056 [   10]/  112\n",
            "loss : 0.866697 [   20]/  112\n",
            "loss : 0.889542 [   30]/  112\n",
            "loss : 0.921027 [   40]/  112\n",
            "loss : 0.945331 [   50]/  112\n",
            "loss : 0.917159 [   60]/  112\n",
            "loss : 0.837420 [   70]/  112\n",
            "loss : 0.939318 [   80]/  112\n",
            "loss : 0.789730 [   90]/  112\n",
            "loss : 0.788118 [  100]/  112\n",
            "loss : 0.912450 [   22]/  112\n",
            "Test Error : \n",
            " Accuracy : 86.8%, Avg loss : 0.845316\n",
            "\n",
            "Epoch 4 \n",
            "---------------\n",
            "loss : 0.934707 [    0]/  112\n",
            "loss : 0.757074 [   10]/  112\n",
            "loss : 0.739228 [   20]/  112\n",
            "loss : 0.794213 [   30]/  112\n",
            "loss : 0.855316 [   40]/  112\n",
            "loss : 0.873904 [   50]/  112\n",
            "loss : 0.825773 [   60]/  112\n",
            "loss : 0.785622 [   70]/  112\n",
            "loss : 0.790267 [   80]/  112\n",
            "loss : 0.802377 [   90]/  112\n",
            "loss : 0.741660 [  100]/  112\n",
            "loss : 0.787519 [   22]/  112\n",
            "Test Error : \n",
            " Accuracy : 65.8%, Avg loss : 0.787095\n",
            "\n",
            "Epoch 5 \n",
            "---------------\n",
            "loss : 0.802245 [    0]/  112\n",
            "loss : 0.651239 [   10]/  112\n",
            "loss : 0.637246 [   20]/  112\n",
            "loss : 0.701822 [   30]/  112\n",
            "loss : 0.774599 [   40]/  112\n",
            "loss : 0.861507 [   50]/  112\n",
            "loss : 0.818704 [   60]/  112\n",
            "loss : 0.740901 [   70]/  112\n",
            "loss : 0.724800 [   80]/  112\n",
            "loss : 0.717389 [   90]/  112\n",
            "loss : 0.817298 [  100]/  112\n",
            "loss : 0.862891 [   22]/  112\n",
            "Test Error : \n",
            " Accuracy : 65.8%, Avg loss : 0.727486\n",
            "\n",
            "Epoch 6 \n",
            "---------------\n",
            "loss : 0.629555 [    0]/  112\n",
            "loss : 0.692240 [   10]/  112\n",
            "loss : 0.863450 [   20]/  112\n",
            "loss : 0.807469 [   30]/  112\n",
            "loss : 0.758410 [   40]/  112\n",
            "loss : 0.554285 [   50]/  112\n",
            "loss : 0.590602 [   60]/  112\n",
            "loss : 0.743004 [   70]/  112\n",
            "loss : 0.567363 [   80]/  112\n",
            "loss : 0.686384 [   90]/  112\n",
            "loss : 0.686493 [  100]/  112\n",
            "loss : 0.823071 [   22]/  112\n",
            "Test Error : \n",
            " Accuracy : 65.8%, Avg loss : 0.672371\n",
            "\n",
            "Epoch 7 \n",
            "---------------\n",
            "loss : 0.561542 [    0]/  112\n",
            "loss : 0.690382 [   10]/  112\n",
            "loss : 0.593994 [   20]/  112\n",
            "loss : 0.647411 [   30]/  112\n",
            "loss : 0.674857 [   40]/  112\n",
            "loss : 0.740035 [   50]/  112\n",
            "loss : 0.647370 [   60]/  112\n",
            "loss : 0.541315 [   70]/  112\n",
            "loss : 0.680400 [   80]/  112\n",
            "loss : 0.705737 [   90]/  112\n",
            "loss : 0.491619 [  100]/  112\n",
            "loss : 0.896765 [   22]/  112\n",
            "Test Error : \n",
            " Accuracy : 86.8%, Avg loss : 0.617214\n",
            "\n",
            "Epoch 8 \n",
            "---------------\n",
            "loss : 0.602392 [    0]/  112\n",
            "loss : 0.634073 [   10]/  112\n",
            "loss : 0.782402 [   20]/  112\n",
            "loss : 0.723453 [   30]/  112\n",
            "loss : 0.613234 [   40]/  112\n",
            "loss : 0.604351 [   50]/  112\n",
            "loss : 0.504207 [   60]/  112\n",
            "loss : 0.563945 [   70]/  112\n",
            "loss : 0.459603 [   80]/  112\n",
            "loss : 0.596146 [   90]/  112\n",
            "loss : 0.501156 [  100]/  112\n",
            "loss : 0.226716 [   22]/  112\n",
            "Test Error : \n",
            " Accuracy : 86.8%, Avg loss : 0.572727\n",
            "\n",
            "Epoch 9 \n",
            "---------------\n",
            "loss : 0.717575 [    0]/  112\n",
            "loss : 0.489925 [   10]/  112\n",
            "loss : 0.441111 [   20]/  112\n",
            "loss : 0.576540 [   30]/  112\n",
            "loss : 0.498781 [   40]/  112\n",
            "loss : 0.675441 [   50]/  112\n",
            "loss : 0.514880 [   60]/  112\n",
            "loss : 0.576761 [   70]/  112\n",
            "loss : 0.457134 [   80]/  112\n",
            "loss : 0.532945 [   90]/  112\n",
            "loss : 0.559930 [  100]/  112\n",
            "loss : 0.515112 [   22]/  112\n",
            "Test Error : \n",
            " Accuracy : 89.5%, Avg loss : 0.537606\n",
            "\n",
            "Epoch 10 \n",
            "---------------\n",
            "loss : 0.544214 [    0]/  112\n",
            "loss : 0.603984 [   10]/  112\n",
            "loss : 0.483517 [   20]/  112\n",
            "loss : 0.482889 [   30]/  112\n",
            "loss : 0.655561 [   40]/  112\n",
            "loss : 0.543431 [   50]/  112\n",
            "loss : 0.398336 [   60]/  112\n",
            "loss : 0.492424 [   70]/  112\n",
            "loss : 0.425336 [   80]/  112\n",
            "loss : 0.468724 [   90]/  112\n",
            "loss : 0.517126 [  100]/  112\n",
            "loss : 0.574974 [   22]/  112\n",
            "Test Error : \n",
            " Accuracy : 86.8%, Avg loss : 0.514187\n",
            "\n",
            "Done!\n"
          ]
        }
      ]
    },
    {
      "cell_type": "code",
      "source": [],
      "metadata": {
        "id": "JL_wbqvIbjUJ"
      },
      "execution_count": null,
      "outputs": []
    }
  ]
}